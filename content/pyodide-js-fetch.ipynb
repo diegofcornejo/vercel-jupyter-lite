{
 "cells": [
  {
   "cell_type": "code",
   "execution_count": 1,
   "metadata": {},
   "outputs": [
    {
     "ename": "ModuleNotFoundError",
     "evalue": "No module named 'pyodide.ffi'",
     "output_type": "error",
     "traceback": [
      "\u001b[0;31m---------------------------------------------------------------------------\u001b[0m",
      "\u001b[0;31mModuleNotFoundError\u001b[0m                       Traceback (most recent call last)",
      "Cell \u001b[0;32mIn[1], line 2\u001b[0m\n\u001b[1;32m      1\u001b[0m \u001b[38;5;28;01mimport\u001b[39;00m \u001b[38;5;21;01mjson\u001b[39;00m\n\u001b[0;32m----> 2\u001b[0m \u001b[38;5;28;01mfrom\u001b[39;00m \u001b[38;5;21;01mpyodide\u001b[39;00m\u001b[38;5;21;01m.\u001b[39;00m\u001b[38;5;21;01mffi\u001b[39;00m \u001b[38;5;28;01mimport\u001b[39;00m to_js\n\u001b[1;32m      3\u001b[0m \u001b[38;5;28;01mfrom\u001b[39;00m \u001b[38;5;21;01mIPython\u001b[39;00m\u001b[38;5;21;01m.\u001b[39;00m\u001b[38;5;21;01mdisplay\u001b[39;00m \u001b[38;5;28;01mimport\u001b[39;00m JSON\n\u001b[1;32m      4\u001b[0m \u001b[38;5;28;01mfrom\u001b[39;00m \u001b[38;5;21;01mjs\u001b[39;00m \u001b[38;5;28;01mimport\u001b[39;00m Object, fetch, Headers, Response\n",
      "\u001b[0;31mModuleNotFoundError\u001b[0m: No module named 'pyodide.ffi'"
     ]
    }
   ],
   "source": [
    "import json\n",
    "from pyodide.ffi import to_js\n",
    "from IPython.display import JSON\n",
    "from js import Object, fetch, Headers, Response\n",
    "\n",
    "resp = await fetch('https://httpbin.org/post',\n",
    "\tmethod=\"POST\",\n",
    "\tbody=json.dumps({\"foo\": \"bar\"}),\n",
    "\tcredentials=\"same-origin\",\n",
    "\theaders=Object.fromEntries(to_js({\"Content-Type\": \"application/json\"})),\n",
    ")\n",
    "res = await resp.text()\n",
    "JSON(json.loads(res))"
   ]
  }
 ],
 "metadata": {
  "kernelspec": {
   "display_name": "Python 3",
   "language": "python",
   "name": "python3"
  },
  "language_info": {
   "codemirror_mode": {
    "name": "ipython",
    "version": 3
   },
   "file_extension": ".py",
   "mimetype": "text/x-python",
   "name": "python",
   "nbconvert_exporter": "python",
   "pygments_lexer": "ipython3",
   "version": "3.11.6"
  }
 },
 "nbformat": 4,
 "nbformat_minor": 2
}
